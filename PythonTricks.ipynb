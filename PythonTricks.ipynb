{
 "cells": [
  {
   "attachments": {},
   "cell_type": "markdown",
   "metadata": {},
   "source": [
    "**Finding Key with Maximum Value in a dictionary**"
   ]
  },
  {
   "cell_type": "code",
   "execution_count": 11,
   "metadata": {},
   "outputs": [
    {
     "name": "stdout",
     "output_type": "stream",
     "text": [
      "GameOfThrones\n",
      "GameOfThrones\n",
      "GameOfThrones\n"
     ]
    }
   ],
   "source": [
    "Tv = {'BreakingBad':100, 'GameOfThrones':1292, 'TMKUC' : 88}\n",
    " \n",
    "Keymax = max(zip(Tv.values(), Tv.keys()))[1]\n",
    "print(Keymax)   ############################ O(n*logn)\n",
    "\n",
    "\n",
    "Tv = {'BreakingBad':100, 'GameOfThrones':1292, 'TMKUC' : 88}\n",
    " \n",
    "Keymax = max(Tv, key= lambda x: Tv[x])\n",
    "print(Keymax)\n",
    "\n",
    "Tv = {'BreakingBad':100, 'GameOfThrones':1292, 'TMKUC' : 88}\n",
    " \n",
    "Keymax = max(Tv, key= Tv.get)\n",
    "print(Keymax)"
   ]
  },
  {
   "attachments": {},
   "cell_type": "markdown",
   "metadata": {},
   "source": [
    "**Converting Character to ASCII and Vice Versa**"
   ]
  },
  {
   "cell_type": "code",
   "execution_count": 1,
   "metadata": {},
   "outputs": [
    {
     "name": "stdout",
     "output_type": "stream",
     "text": [
      "a\n"
     ]
    }
   ],
   "source": [
    "print(chr(ord('a')))"
   ]
  },
  {
   "attachments": {},
   "cell_type": "markdown",
   "metadata": {},
   "source": [
    "**ASCII VALUES:**\n",
    "\n",
    "**97 - 122 (LowerCase Alphabets)**\\\n",
    "**65 - 90  (UpperCase Alphabets)**"
   ]
  },
  {
   "cell_type": "code",
   "execution_count": 1,
   "metadata": {},
   "outputs": [
    {
     "name": "stdout",
     "output_type": "stream",
     "text": [
      "['a', 'b', 'c', 'd', 'e', 'f', 'g', 'h', 'i', 'j', 'k', 'l', 'm', 'n', 'o', 'p', 'q', 'r', 's', 't', 'u', 'v', 'w', 'x', 'y', 'z']\n"
     ]
    }
   ],
   "source": [
    "a = list(map(chr,list(range(97,123))))\n",
    "print(a)"
   ]
  },
  {
   "attachments": {},
   "cell_type": "markdown",
   "metadata": {},
   "source": [
    "**Converting List of Characters to Strings**"
   ]
  },
  {
   "cell_type": "code",
   "execution_count": 3,
   "metadata": {},
   "outputs": [
    {
     "name": "stdout",
     "output_type": "stream",
     "text": [
      "aabbccc\n",
      "\n"
     ]
    }
   ],
   "source": [
    "a = [\"a\",\"a\",\"b\",\"b\",\"c\",\"c\",\"c\"]\n",
    "s = \"\"\n",
    "print(s.join(a))\n",
    "print(s)"
   ]
  },
  {
   "attachments": {},
   "cell_type": "markdown",
   "metadata": {},
   "source": [
    "**Left Right Pointer Questions are simple**"
   ]
  }
 ],
 "metadata": {
  "kernelspec": {
   "display_name": "Python 3",
   "language": "python",
   "name": "python3"
  },
  "language_info": {
   "codemirror_mode": {
    "name": "ipython",
    "version": 3
   },
   "file_extension": ".py",
   "mimetype": "text/x-python",
   "name": "python",
   "nbconvert_exporter": "python",
   "pygments_lexer": "ipython3",
   "version": "3.9.5"
  },
  "orig_nbformat": 4,
  "vscode": {
   "interpreter": {
    "hash": "d89e8e5728b17684fed54050e5e4793eca09d5a54c09653813923a5dbe3a63ce"
   }
  }
 },
 "nbformat": 4,
 "nbformat_minor": 2
}
